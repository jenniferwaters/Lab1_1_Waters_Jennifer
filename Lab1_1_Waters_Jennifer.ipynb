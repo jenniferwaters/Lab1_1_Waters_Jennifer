{
 "cells": [
  {
   "cell_type": "markdown",
   "id": "ffc49c35",
   "metadata": {},
   "source": [
    "#Lab1_1_Waters_Jennifer"
   ]
  },
  {
   "cell_type": "code",
   "execution_count": 1,
   "id": "f757cd0a",
   "metadata": {},
   "outputs": [
    {
     "name": "stdout",
     "output_type": "stream",
     "text": [
      "113.03999999999999\n"
     ]
    }
   ],
   "source": [
    "r = 3\n",
    "π = 3.14\n",
    "sphere_volume = 4/3 * (π * r**3)\n",
    "print(sphere_volume)"
   ]
  }
 ],
 "metadata": {
  "kernelspec": {
   "display_name": "Python 3 (ipykernel)",
   "language": "python",
   "name": "python3"
  },
  "language_info": {
   "codemirror_mode": {
    "name": "ipython",
    "version": 3
   },
   "file_extension": ".py",
   "mimetype": "text/x-python",
   "name": "python",
   "nbconvert_exporter": "python",
   "pygments_lexer": "ipython3",
   "version": "3.9.13"
  }
 },
 "nbformat": 4,
 "nbformat_minor": 5
}
